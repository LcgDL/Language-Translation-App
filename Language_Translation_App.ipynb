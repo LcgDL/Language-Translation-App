{
  "nbformat": 4,
  "nbformat_minor": 0,
  "metadata": {
    "colab": {
      "provenance": [],
      "gpuType": "T4"
    },
    "kernelspec": {
      "name": "python3",
      "display_name": "Python 3"
    },
    "language_info": {
      "name": "python"
    },
    "accelerator": "GPU"
  },
  "cells": [
    {
      "cell_type": "markdown",
      "source": [
        "\n",
        "\n",
        "# <h3 align=\"center\"> $\\underline{\\text{ Language Translation App}}$</h3>\n",
        "\n",
        "<h3 align=\"center\">$ \\text{Translation Web-App}$</h3>"
      ],
      "metadata": {
        "id": "9I26V75r1TH_"
      }
    },
    {
      "cell_type": "markdown",
      "source": [
        "Installing dependencies:"
      ],
      "metadata": {
        "id": "qU8z2vCY1kqo"
      }
    },
    {
      "cell_type": "code",
      "source": [
        "!pip3 install torch torchvision torchaudio --index-url https://download.pytorch.org/whl/cu118"
      ],
      "metadata": {
        "id": "O5J5ywa0SnCR"
      },
      "execution_count": null,
      "outputs": []
    },
    {
      "cell_type": "code",
      "source": [
        "!pip install transformers ipywidgets gradio --upgrade"
      ],
      "metadata": {
        "id": "o0-FDEwZ1o46"
      },
      "execution_count": null,
      "outputs": []
    },
    {
      "cell_type": "code",
      "source": [
        "import gradio as gr\n",
        "from transformers import pipeline"
      ],
      "metadata": {
        "id": "zPtmPiuL1o2R"
      },
      "execution_count": 57,
      "outputs": []
    },
    {
      "cell_type": "markdown",
      "source": [
        "Support for third party widgets will remain active for the duration of the session. To disable support"
      ],
      "metadata": {
        "id": "eca13LigTIob"
      }
    },
    {
      "cell_type": "code",
      "source": [
        "from google.colab import output\n",
        "output.enable_custom_widget_manager()"
      ],
      "metadata": {
        "id": "tp1VUpeCTCwh"
      },
      "execution_count": 58,
      "outputs": []
    },
    {
      "cell_type": "code",
      "source": [
        "#from google.colab import output\n",
        "#output.disable_custom_widget_manager()"
      ],
      "metadata": {
        "id": "WtaWa-xuTCwk"
      },
      "execution_count": null,
      "outputs": []
    },
    {
      "cell_type": "markdown",
      "source": [
        "Load Up Pipeline en_fr"
      ],
      "metadata": {
        "id": "0VB4TMoo4_2C"
      }
    },
    {
      "cell_type": "code",
      "source": [
        "trans_en_fr = pipeline('translation_en_to_fr')"
      ],
      "metadata": {
        "id": "mWC32Kxs1ozo"
      },
      "execution_count": null,
      "outputs": []
    },
    {
      "cell_type": "code",
      "source": [
        "result = trans_en_fr('I love good food!')\n",
        "result[0]['translation_text']"
      ],
      "metadata": {
        "colab": {
          "base_uri": "https://localhost:8080/",
          "height": 36
        },
        "id": "vuiahqGk1oxA",
        "outputId": "6c18d0a0-32bf-4b09-c9b1-f8ce48c3499e"
      },
      "execution_count": 60,
      "outputs": [
        {
          "output_type": "execute_result",
          "data": {
            "text/plain": [
              "\"J'aime la bonne cuisine!\""
            ],
            "application/vnd.google.colaboratory.intrinsic+json": {
              "type": "string"
            }
          },
          "metadata": {},
          "execution_count": 60
        }
      ]
    },
    {
      "cell_type": "markdown",
      "source": [
        "Load Up Pipeline en_gr"
      ],
      "metadata": {
        "id": "HuBJtc6g-uOb"
      }
    },
    {
      "cell_type": "code",
      "source": [
        "trans_en_de = pipeline('translation_en_to_de')"
      ],
      "metadata": {
        "id": "KssgjXtW1orE"
      },
      "execution_count": null,
      "outputs": []
    },
    {
      "cell_type": "code",
      "source": [
        "results = trans_en_de('I love good food!')\n",
        "results[0]['translation_text']"
      ],
      "metadata": {
        "colab": {
          "base_uri": "https://localhost:8080/",
          "height": 36
        },
        "id": "q_AU57QE1ooL",
        "outputId": "01895add-83bf-4c6e-b85b-6d93f686c881"
      },
      "execution_count": 63,
      "outputs": [
        {
          "output_type": "execute_result",
          "data": {
            "text/plain": [
              "'Ich liebe gutes Essen!'"
            ],
            "application/vnd.google.colaboratory.intrinsic+json": {
              "type": "string"
            }
          },
          "metadata": {},
          "execution_count": 63
        }
      ]
    },
    {
      "cell_type": "markdown",
      "source": [
        "Create Interface en_fr:"
      ],
      "metadata": {
        "id": "HmP5_oWUAX4s"
      }
    },
    {
      "cell_type": "code",
      "source": [
        "def transl_en_to_fr(text):\n",
        "    return trans_en_fr(text)[0]['translation_text']"
      ],
      "metadata": {
        "id": "egbhSWZRAMlE"
      },
      "execution_count": 64,
      "outputs": []
    },
    {
      "cell_type": "code",
      "source": [
        "transl_en_to_fr(\"I don't know if I like French\")"
      ],
      "metadata": {
        "colab": {
          "base_uri": "https://localhost:8080/",
          "height": 36
        },
        "id": "o9i79sBDAMhT",
        "outputId": "fa6b5534-595b-4ca7-d4d8-56a7fec08e14"
      },
      "execution_count": 65,
      "outputs": [
        {
          "output_type": "execute_result",
          "data": {
            "text/plain": [
              "\"Je ne sais pas si j'aime le français\""
            ],
            "application/vnd.google.colaboratory.intrinsic+json": {
              "type": "string"
            }
          },
          "metadata": {},
          "execution_count": 65
        }
      ]
    },
    {
      "cell_type": "code",
      "source": [
        "interf = gr.Interface(fn=transl_en_to_fr,inputs=gr.inputs.Textbox(lines=2, placeholder='Text to translate'),outputs='text')"
      ],
      "metadata": {
        "id": "V2JdyLiiBpyw"
      },
      "execution_count": null,
      "outputs": []
    },
    {
      "cell_type": "code",
      "source": [
        "interf.launch(share=True)"
      ],
      "metadata": {
        "id": "RTSRA8tvBtJZ",
        "colab": {
          "base_uri": "https://localhost:8080/",
          "height": 611
        },
        "outputId": "a91d1b99-6362-43d0-ee59-411c616c39e1"
      },
      "execution_count": 67,
      "outputs": [
        {
          "output_type": "stream",
          "name": "stdout",
          "text": [
            "Colab notebook detected. To show errors in colab notebook, set debug=True in launch()\n",
            "Running on public URL: https://af99850674f07c9f46.gradio.live\n",
            "\n",
            "This share link expires in 72 hours. For free permanent hosting and GPU upgrades, run `gradio deploy` from Terminal to deploy to Spaces (https://huggingface.co/spaces)\n"
          ]
        },
        {
          "output_type": "display_data",
          "data": {
            "text/plain": [
              "<IPython.core.display.HTML object>"
            ],
            "text/html": [
              "<div><iframe src=\"https://af99850674f07c9f46.gradio.live\" width=\"100%\" height=\"500\" allow=\"autoplay; camera; microphone; clipboard-read; clipboard-write;\" frameborder=\"0\" allowfullscreen></iframe></div>"
            ]
          },
          "metadata": {}
        },
        {
          "output_type": "execute_result",
          "data": {
            "text/plain": []
          },
          "metadata": {},
          "execution_count": 67
        }
      ]
    },
    {
      "cell_type": "markdown",
      "source": [
        "Create Interface en_de:"
      ],
      "metadata": {
        "id": "FUBnaWehBS-5"
      }
    },
    {
      "cell_type": "code",
      "source": [
        "def transl_en_to_de(text):\n",
        "    return trans_en_de(text)[0]['translation_text']"
      ],
      "metadata": {
        "id": "A2E_68M5BT33"
      },
      "execution_count": 68,
      "outputs": []
    },
    {
      "cell_type": "code",
      "source": [
        "transl_en_to_de(\"I know I like German\")"
      ],
      "metadata": {
        "id": "5eCKPGVcBVfq",
        "colab": {
          "base_uri": "https://localhost:8080/",
          "height": 36
        },
        "outputId": "4b96fa46-ef3b-4790-a6ed-e3423b840483"
      },
      "execution_count": 69,
      "outputs": [
        {
          "output_type": "execute_result",
          "data": {
            "text/plain": [
              "'Ich weiß, ich mag Deutsch'"
            ],
            "application/vnd.google.colaboratory.intrinsic+json": {
              "type": "string"
            }
          },
          "metadata": {},
          "execution_count": 69
        }
      ]
    },
    {
      "cell_type": "code",
      "source": [
        "interf_de = gr.Interface(fn=transl_en_to_de,inputs=gr.inputs.Textbox(lines=2, placeholder='Text to translate'),outputs='text')"
      ],
      "metadata": {
        "id": "DHQl_3vAY6Hg"
      },
      "execution_count": null,
      "outputs": []
    },
    {
      "cell_type": "code",
      "source": [
        "interf_de.launch(share=True )"
      ],
      "metadata": {
        "id": "7CBfWa1nZAiV",
        "colab": {
          "base_uri": "https://localhost:8080/",
          "height": 611
        },
        "outputId": "544e8c45-d034-4c1b-c80a-00733f53508b"
      },
      "execution_count": 73,
      "outputs": [
        {
          "output_type": "stream",
          "name": "stdout",
          "text": [
            "Colab notebook detected. To show errors in colab notebook, set debug=True in launch()\n",
            "Running on public URL: https://a9d5caae1f69ac6806.gradio.live\n",
            "\n",
            "This share link expires in 72 hours. For free permanent hosting and GPU upgrades, run `gradio deploy` from Terminal to deploy to Spaces (https://huggingface.co/spaces)\n"
          ]
        },
        {
          "output_type": "display_data",
          "data": {
            "text/plain": [
              "<IPython.core.display.HTML object>"
            ],
            "text/html": [
              "<div><iframe src=\"https://a9d5caae1f69ac6806.gradio.live\" width=\"100%\" height=\"500\" allow=\"autoplay; camera; microphone; clipboard-read; clipboard-write;\" frameborder=\"0\" allowfullscreen></iframe></div>"
            ]
          },
          "metadata": {}
        },
        {
          "output_type": "execute_result",
          "data": {
            "text/plain": []
          },
          "metadata": {},
          "execution_count": 73
        }
      ]
    }
  ]
}